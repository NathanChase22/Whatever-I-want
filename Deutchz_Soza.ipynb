{
 "cells": [
  {
   "cell_type": "code",
   "execution_count": 9,
   "id": "f80029e3-e089-4f2b-8627-75a659214f5d",
   "metadata": {},
   "outputs": [
    {
     "name": "stderr",
     "output_type": "stream",
     "text": [
      "ibmqfactory.load_account:WARNING:2022-10-21 01:56:38,201: Credentials are already in use. The existing account in the session will be replaced.\n"
     ]
    }
   ],
   "source": [
    "import numpy as np\n",
    "\n",
    "# Importing standard Qiskit libraries\n",
    "from qiskit import QuantumCircuit, transpile, Aer, IBMQ, QuantumRegister, ClassicalRegister\n",
    "from qiskit.tools.jupyter import *\n",
    "from qiskit.visualization import *\n",
    "from ibm_quantum_widgets import *\n",
    "from qiskit.providers.aer import QasmSimulator\n",
    "from qiskit import *\n",
    "# Loading your IBM Quantum account(s)\n",
    "provider = IBMQ.load_account()"
   ]
  },
  {
   "cell_type": "code",
   "execution_count": 13,
   "id": "a27d8757-4769-44af-985b-22c1cab7ef02",
   "metadata": {},
   "outputs": [],
   "source": [
    "def U_oracle(qc):\n",
    "    qc.x(0)\n",
    "    #qc.cx(0,1)"
   ]
  },
  {
   "cell_type": "code",
   "execution_count": 14,
   "id": "4b361de6-b6e0-40b6-8963-ca5f0873e610",
   "metadata": {},
   "outputs": [
    {
     "data": {
      "image/png": "[encoded data removed]",
      "text/plain": [
       "<Figure size 507.852x204.68 with 1 Axes>"
      ]
     },
     "execution_count": 14,
     "metadata": {},
     "output_type": "execute_result"
    }
   ],
   "source": [
    "qc = QuantumCircuit(2, 1)\n",
    "\n",
    "qc.x(1)\n",
    "qc.h([0,1])\n",
    "qc.barrier() #visual aid to breakdown circuit\n",
    "U_oracle(qc)\n",
    "qc.barrier()\n",
    "qc.h(0)\n",
    "\n",
    "qc.measure([0],[0])\n",
    "\n",
    "qc.draw()"
   ]
  },
  {
   "cell_type": "code",
   "execution_count": 15,
   "id": "0748d629-639b-457a-9d9b-47260771c6b4",
   "metadata": {},
   "outputs": [
    {
     "data": {
      "image/png": "[encoded data removed]",
      "text/plain": [
       "<Figure size 504x360 with 1 Axes>"
      ]
     },
     "execution_count": 15,
     "metadata": {},
     "output_type": "execute_result"
    }
   ],
   "source": [
    "#getting out information from our circuit is a involved process\n",
    "\n",
    "backend = Aer.get_backend('qasm_simulator') \n",
    "#give our program a 'testing ground' to run, in this case it's a simulator\n",
    "\n",
    "job = execute(qc, backend, shots = 1024) \n",
    "#How many times you want to run our program\n",
    "\n",
    "result = job.result()\n",
    "#store the result from our job\n",
    "\n",
    "counts = result.get_counts(qc)\n",
    "#from our results object we pull out the count\n",
    "\n",
    "plot_histogram(counts)\n"
   ]
  },
  {
   "cell_type": "code",
   "execution_count": null,
   "id": "21bb79d8-9d31-4357-8ba6-96a68cbf09da",
   "metadata": {},
   "outputs": [],
   "source": []
  }
 ],
 "metadata": {
  "kernelspec": {
   "display_name": "Python 3 (ipykernel)",
   "language": "python",
   "name": "python3"
  },
  "language_info": {
   "codemirror_mode": {
    "name": "ipython",
    "version": 3
   },
   "file_extension": ".py",
   "mimetype": "text/x-python",
   "name": "python",
   "nbconvert_exporter": "python",
   "pygments_lexer": "ipython3",
   "version": "3.8.13"
  },
  "widgets": {
   "application/vnd.jupyter.widget-state+json": {
    "state": {
     "089decc1d3f84d5b8c08d12f91bf34a7": {
      "model_module": "@jupyter-widgets/controls",
      "model_module_version": "1.5.0",
      "model_name": "DescriptionStyleModel",
      "state": {
       "description_width": ""
      }
     },
     "134126e011b74a62a53bf837d666a8d6": {
      "model_module": "@jupyter-widgets/controls",
      "model_module_version": "1.5.0",
      "model_name": "GridBoxModel",
      "state": {
       "children": [
        "IPY_MODEL_ad50c37d30ce4dbab3a55a644ba937bd"
       ],
       "layout": "IPY_MODEL_538d3ff3243e4e4794a9b639324584ea"
      }
     },
     "17151ad7d291416c92287467d106d1b0": {
      "model_module": "@jupyter-widgets/controls",
      "model_module_version": "1.5.0",
      "model_name": "HBoxModel",
      "state": {
       "children": [
        "IPY_MODEL_971053f85e9e4caab26d76dbfd891086",
        "IPY_MODEL_9975545e3a524b1eaa444238cc8aaa38",
        "IPY_MODEL_2b6aad4b14624594972b17f9b5b84d21",
        "IPY_MODEL_c25fec5f47154022a2557042fb524ce4",
        "IPY_MODEL_78e4dd41767b44b491e69646af98c773"
       ],
       "layout": "IPY_MODEL_d34642866eb84fd692b3c5fc57063a38"
      }
     },
     "1aef39136ad34f7fa5fefc8c2465deb1": {
      "model_module": "@jupyter-widgets/controls",
      "model_module_version": "1.5.0",
      "model_name": "DescriptionStyleModel",
      "state": {
       "description_width": ""
      }
     },
     "1b12b24f872d46869ef46923ba42e5f6": {
      "model_module": "@jupyter-widgets/base",
      "model_module_version": "1.2.0",
      "model_name": "LayoutModel",
      "state": {
       "width": "70px"
      }
     },
     "2b6aad4b14624594972b17f9b5b84d21": {
      "model_module": "@jupyter-widgets/controls",
      "model_module_version": "1.5.0",
      "model_name": "HTMLModel",
      "state": {
       "layout": "IPY_MODEL_3e6f1134fb3d44e88efbfd952bd181f5",
       "style": "IPY_MODEL_e6e61d6211ab4fc09e9fe4e26eaa3d70",
       "value": "<h5>Status</h5>"
      }
     },
     "2bc980dea65c402d9e0654153cc04e48": {
      "model_module": "@jupyter-widgets/controls",
      "model_module_version": "1.5.0",
      "model_name": "ButtonStyleModel",
      "state": {}
     },
     "3d070671dd624d5a899998ab98a5216e": {
      "model_module": "@jupyter-widgets/base",
      "model_module_version": "1.2.0",
      "model_name": "LayoutModel",
      "state": {
       "grid_area": "right",
       "padding": "0px 0px 0px 0px",
       "width": "70px"
      }
     },
     "3e6f1134fb3d44e88efbfd952bd181f5": {
      "model_module": "@jupyter-widgets/base",
      "model_module_version": "1.2.0",
      "model_name": "LayoutModel",
      "state": {
       "width": "95px"
      }
     },
     "538d3ff3243e4e4794a9b639324584ea": {
      "model_module": "@jupyter-widgets/base",
      "model_module_version": "1.2.0",
      "model_name": "LayoutModel",
      "state": {
       "grid_template_areas": "\n                                       \". . . . right \"\n                                        ",
       "grid_template_columns": "20% 20% 20% 20% 20%",
       "width": "100%"
      }
     },
     "653f226578114043ba7620d94697676b": {
      "model_module": "@jupyter-widgets/controls",
      "model_module_version": "1.5.0",
      "model_name": "HTMLModel",
      "state": {
       "layout": "IPY_MODEL_731faf1ac1a84f318af148b5eaa35fdd",
       "style": "IPY_MODEL_089decc1d3f84d5b8c08d12f91bf34a7",
       "value": "<p style='font-family: IBM Plex Sans, Arial, Helvetica, sans-serif; font-size: 20px; font-weight: medium;'>Circuit Properties</p>"
      }
     },
     "6d9c9a52a8b44ca08737d805bd2dea2f": {
      "model_module": "@jupyter-widgets/controls",
      "model_module_version": "1.5.0",
      "model_name": "DescriptionStyleModel",
      "state": {
       "description_width": ""
      }
     },
     "731faf1ac1a84f318af148b5eaa35fdd": {
      "model_module": "@jupyter-widgets/base",
      "model_module_version": "1.2.0",
      "model_name": "LayoutModel",
      "state": {
       "margin": "0px 0px 10px 0px"
      }
     },
     "78e4dd41767b44b491e69646af98c773": {
      "model_module": "@jupyter-widgets/controls",
      "model_module_version": "1.5.0",
      "model_name": "HTMLModel",
      "state": {
       "layout": "IPY_MODEL_ed2159a59842484bbf92a904a72cd2df",
       "style": "IPY_MODEL_c58335773d3743f4b5ba620b44d485d9",
       "value": "<h5>Message</h5>"
      }
     },
     "971053f85e9e4caab26d76dbfd891086": {
      "model_module": "@jupyter-widgets/controls",
      "model_module_version": "1.5.0",
      "model_name": "HTMLModel",
      "state": {
       "layout": "IPY_MODEL_a2c3bd518d5340909129238c271d3dd2",
       "style": "IPY_MODEL_6d9c9a52a8b44ca08737d805bd2dea2f",
       "value": "<h5>Job ID</h5>"
      }
     },
     "9975545e3a524b1eaa444238cc8aaa38": {
      "model_module": "@jupyter-widgets/controls",
      "model_module_version": "1.5.0",
      "model_name": "HTMLModel",
      "state": {
       "layout": "IPY_MODEL_cae92f72d4514ee499b8cff97438b045",
       "style": "IPY_MODEL_a93f91129db643fd8d11f7aa01782763",
       "value": "<h5>Backend</h5>"
      }
     },
     "a2c3bd518d5340909129238c271d3dd2": {
      "model_module": "@jupyter-widgets/base",
      "model_module_version": "1.2.0",
      "model_name": "LayoutModel",
      "state": {
       "width": "190px"
      }
     },
     "a93f91129db643fd8d11f7aa01782763": {
      "model_module": "@jupyter-widgets/controls",
      "model_module_version": "1.5.0",
      "model_name": "DescriptionStyleModel",
      "state": {
       "description_width": ""
      }
     },
     "ad50c37d30ce4dbab3a55a644ba937bd": {
      "model_module": "@jupyter-widgets/controls",
      "model_module_version": "1.5.0",
      "model_name": "ButtonModel",
      "state": {
       "button_style": "primary",
       "description": "Clear",
       "layout": "IPY_MODEL_3d070671dd624d5a899998ab98a5216e",
       "style": "IPY_MODEL_2bc980dea65c402d9e0654153cc04e48"
      }
     },
     "c25fec5f47154022a2557042fb524ce4": {
      "model_module": "@jupyter-widgets/controls",
      "model_module_version": "1.5.0",
      "model_name": "HTMLModel",
      "state": {
       "layout": "IPY_MODEL_1b12b24f872d46869ef46923ba42e5f6",
       "style": "IPY_MODEL_1aef39136ad34f7fa5fefc8c2465deb1",
       "value": "<h5>Queue</h5>"
      }
     },
     "c58335773d3743f4b5ba620b44d485d9": {
      "model_module": "@jupyter-widgets/controls",
      "model_module_version": "1.5.0",
      "model_name": "DescriptionStyleModel",
      "state": {
       "description_width": ""
      }
     },
     "cae92f72d4514ee499b8cff97438b045": {
      "model_module": "@jupyter-widgets/base",
      "model_module_version": "1.2.0",
      "model_name": "LayoutModel",
      "state": {
       "width": "145px"
      }
     },
     "d34642866eb84fd692b3c5fc57063a38": {
      "model_module": "@jupyter-widgets/base",
      "model_module_version": "1.2.0",
      "model_name": "LayoutModel",
      "state": {
       "margin": "0px 0px 0px 37px",
       "width": "600px"
      }
     },
     "e6e61d6211ab4fc09e9fe4e26eaa3d70": {
      "model_module": "@jupyter-widgets/controls",
      "model_module_version": "1.5.0",
      "model_name": "DescriptionStyleModel",
      "state": {
       "description_width": ""
      }
     },
     "ed2159a59842484bbf92a904a72cd2df": {
      "model_module": "@jupyter-widgets/base",
      "model_module_version": "1.2.0",
      "model_name": "LayoutModel",
      "state": {}
     }
    },
    "version_major": 2,
    "version_minor": 0
   }
  }
 },
 "nbformat": 4,
 "nbformat_minor": 5
}
